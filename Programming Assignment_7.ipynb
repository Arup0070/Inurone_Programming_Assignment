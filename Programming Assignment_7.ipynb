{
 "cells": [
  {
   "cell_type": "markdown",
   "metadata": {
    "id": "KHWUJ2w1uvbN"
   },
   "source": [
    "> Q. Write a Python Program to find sum of array?   "
   ]
  },
  {
   "cell_type": "code",
   "execution_count": 2,
   "metadata": {
    "colab": {
     "base_uri": "https://localhost:8080/"
    },
    "executionInfo": {
     "elapsed": 446,
     "status": "ok",
     "timestamp": 1627201048073,
     "user": {
      "displayName": "Yuno Clover",
      "photoUrl": "",
      "userId": "14793961318254159012"
     },
     "user_tz": -330
    },
    "id": "WhtTfRDRuoY-",
    "outputId": "f540e3f5-305a-44f6-cc37-0e91b8add45b"
   },
   "outputs": [
    {
     "name": "stdout",
     "output_type": "stream",
     "text": [
      "Sum :  355\n"
     ]
    }
   ],
   "source": [
    "sum=0\n",
    "arr = [10,45,56,67,54,67,56]\n",
    "for i in range(0,len(arr)):\n",
    "    sum+=arr[i]\n",
    "print(\"Sum : \",sum)"
   ]
  },
  {
   "cell_type": "markdown",
   "metadata": {
    "id": "WTlzu9JEvKyf"
   },
   "source": [
    "> Q. Write a Python Program to find largest element in an array?"
   ]
  },
  {
   "cell_type": "code",
   "execution_count": 14,
   "metadata": {
    "colab": {
     "base_uri": "https://localhost:8080/"
    },
    "executionInfo": {
     "elapsed": 384,
     "status": "ok",
     "timestamp": 1627201498468,
     "user": {
      "displayName": "Yuno Clover",
      "photoUrl": "",
      "userId": "14793961318254159012"
     },
     "user_tz": -330
    },
    "id": "pXMdV3kuu6FO",
    "outputId": "910bb875-5211-41e1-a6a4-53542a467965"
   },
   "outputs": [
    {
     "name": "stdout",
     "output_type": "stream",
     "text": [
      "Largest element in [1, 2, 100, 4, 77, 9] is 100\n"
     ]
    }
   ],
   "source": [
    "\n",
    "arr = [1,2,100,4,77,9]\n",
    "num=(sorted(arr))[-1]\n",
    "\n",
    "print(\"Largest element in {} is {}\".format(arr ,num) )   \n",
    "\n",
    "  "
   ]
  },
  {
   "cell_type": "markdown",
   "metadata": {
    "id": "JiLJWeXYxLPn"
   },
   "source": [
    "> Q. Write a Python Program for array rotation?"
   ]
  },
  {
   "cell_type": "code",
   "execution_count": 17,
   "metadata": {
    "colab": {
     "base_uri": "https://localhost:8080/"
    },
    "executionInfo": {
     "elapsed": 392,
     "status": "ok",
     "timestamp": 1627201664997,
     "user": {
      "displayName": "Yuno Clover",
      "photoUrl": "",
      "userId": "14793961318254159012"
     },
     "user_tz": -330
    },
    "id": "bhuUeChpvSlo",
    "outputId": "927f6127-eb28-4008-bc51-66414021cf4e"
   },
   "outputs": [
    {
     "name": "stdout",
     "output_type": "stream",
     "text": [
      "[9, 77, 4, 3, 8, 1]\n"
     ]
    }
   ],
   "source": [
    "arr = [1,8,3,4,77,9]\n",
    "\n",
    "print(arr[::-1])\n"
   ]
  },
  {
   "cell_type": "markdown",
   "metadata": {
    "id": "JkKh-7KCzsjf"
   },
   "source": [
    "> Q. Write a Python Program to Split the array and add the first part to the end?"
   ]
  },
  {
   "cell_type": "code",
   "execution_count": 36,
   "metadata": {
    "colab": {
     "base_uri": "https://localhost:8080/"
    },
    "executionInfo": {
     "elapsed": 9913,
     "status": "ok",
     "timestamp": 1627202366739,
     "user": {
      "displayName": "Yuno Clover",
      "photoUrl": "",
      "userId": "14793961318254159012"
     },
     "user_tz": -330
    },
    "id": "Oma8mFULzMfN",
    "outputId": "1eedd82e-5a15-45fd-82e1-c5aec23ce529"
   },
   "outputs": [
    {
     "name": "stdout",
     "output_type": "stream",
     "text": [
      "Enter the Position you want to split this array [23, 34, 45, 576, 45, 35, 35] :  4\n",
      "The splited array [23, 34, 45, 576] will be added after [45, 35, 35] and the final array will be [45, 35, 35, 23, 34, 45, 576]\n"
     ]
    }
   ],
   "source": [
    "arr=[23,34,45,576,45,35,35]\n",
    "split=int(input(f\"Enter the Position you want to split this array {arr} :  \"))\n",
    "print(f\"The splited array {arr[:split]} will be added after {arr[split:]} and the final array will be {arr[split:]+arr[:split]}\")"
   ]
  },
  {
   "cell_type": "markdown",
   "metadata": {
    "id": "NzO0cQIb0cMS"
   },
   "source": [
    "> Q. Write a Python Program to check if given array is Monotonic?"
   ]
  },
  {
   "cell_type": "code",
   "execution_count": 37,
   "metadata": {
    "colab": {
     "base_uri": "https://localhost:8080/"
    },
    "executionInfo": {
     "elapsed": 8730,
     "status": "ok",
     "timestamp": 1627202588860,
     "user": {
      "displayName": "Yuno Clover",
      "photoUrl": "",
      "userId": "14793961318254159012"
     },
     "user_tz": -330
    },
    "id": "tN0etPTC0QtP",
    "outputId": "b57d8a5c-319c-411d-be66-b674c9f4b894"
   },
   "outputs": [
    {
     "name": "stdout",
     "output_type": "stream",
     "text": [
      "True\n"
     ]
    }
   ],
   "source": [
    "def Monotonic(A):\n",
    "    x, y = [], []\n",
    "    x.extend(A)\n",
    "    y.extend(A)\n",
    "    x.sort()\n",
    "    y.sort(reverse=True)\n",
    "    if(x == A or y == A):\n",
    "        return True\n",
    "    return False\n",
    "\n",
    "print(Monotonic([6,5,4,4]))"
   ]
  },
  {
   "cell_type": "code",
   "execution_count": null,
   "metadata": {
    "id": "4kj3io6j1F5O"
   },
   "outputs": [],
   "source": []
  }
 ],
 "metadata": {
  "colab": {
   "authorship_tag": "ABX9TyN32v6wHj+V2jrFRO1sRTOO",
   "collapsed_sections": [],
   "name": " PythonBasicProgramming 7.ipynb",
   "provenance": []
  },
  "kernelspec": {
   "display_name": "Python 3 (ipykernel)",
   "language": "python",
   "name": "python3"
  },
  "language_info": {
   "codemirror_mode": {
    "name": "ipython",
    "version": 3
   },
   "file_extension": ".py",
   "mimetype": "text/x-python",
   "name": "python",
   "nbconvert_exporter": "python",
   "pygments_lexer": "ipython3",
   "version": "3.10.11"
  }
 },
 "nbformat": 4,
 "nbformat_minor": 1
}
