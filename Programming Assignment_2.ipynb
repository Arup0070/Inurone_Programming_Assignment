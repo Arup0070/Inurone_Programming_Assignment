{
 "cells": [
  {
   "cell_type": "code",
   "execution_count": 1,
   "metadata": {},
   "outputs": [
    {
     "name": "stdout",
     "output_type": "stream",
     "text": [
      "Enter Distance in KM : 56\n",
      "Miles =  34.72\n"
     ]
    }
   ],
   "source": [
    "#Answer 1\n",
    "\n",
    "km = int(input(\"Enter Distance in KM : \"))\n",
    "miles = km*0.62\n",
    "print(\"Miles = \" , miles)"
   ]
  },
  {
   "cell_type": "code",
   "execution_count": 3,
   "metadata": {},
   "outputs": [
    {
     "name": "stdout",
     "output_type": "stream",
     "text": [
      "Enter Temperature in Celsius : 0\n",
      "32.0\n"
     ]
    }
   ],
   "source": [
    "#Answer 2\n",
    "Celsius = int(input(\"Enter Temperature in Celsius : \"))\n",
    "\n",
    "fahrenheit = (Celsius * 9/5) +32\n",
    "print(fahrenheit)"
   ]
  },
  {
   "cell_type": "code",
   "execution_count": 4,
   "metadata": {},
   "outputs": [
    {
     "name": "stdout",
     "output_type": "stream",
     "text": [
      "Enter year = 2023\n",
      "Enter month in number = 5\n",
      "      May 2023\n",
      "Mo Tu We Th Fr Sa Su\n",
      " 1  2  3  4  5  6  7\n",
      " 8  9 10 11 12 13 14\n",
      "15 16 17 18 19 20 21\n",
      "22 23 24 25 26 27 28\n",
      "29 30 31\n",
      "\n"
     ]
    }
   ],
   "source": [
    "#Answer 3\n",
    "import calendar\n",
    "yy = int(input(\"Enter year = \"))\n",
    "mm = int(input(\"Enter month in number = \"))\n",
    "print(calendar.month(yy,mm))"
   ]
  },
  {
   "cell_type": "code",
   "execution_count": 5,
   "metadata": {},
   "outputs": [
    {
     "name": "stdout",
     "output_type": "stream",
     "text": [
      "Enter a = 65\n",
      "Enter b = 78\n",
      "Enter c = 43\n",
      "(-0.6+0.5491251783869153j) , (-0.6-0.5491251783869153j)\n"
     ]
    }
   ],
   "source": [
    "#Answer 4 \n",
    "# Formula:\n",
    "# x=-b+-sqrt(b**2-4ac)/2*a\n",
    "import cmath\n",
    "a=int(input(\"Enter a = \"))\n",
    "b=int(input(\"Enter b = \"))\n",
    "c=int(input(\"Enter c = \"))\n",
    "discriminant = (b**2)-(4*a*c)\n",
    "sol_one = (-b+cmath.sqrt(discriminant))/(2*a)\n",
    "sol_two = (-b-cmath.sqrt(discriminant))/(2*a)\n",
    "print(sol_one ,\",\", sol_two)"
   ]
  },
  {
   "cell_type": "code",
   "execution_count": 6,
   "metadata": {},
   "outputs": [
    {
     "name": "stdout",
     "output_type": "stream",
     "text": [
      "First Variable =43\n",
      "Second Variable =987\n",
      "First Variable Before swap  : 43 \n",
      " Second variable Before Swap  : 987\n",
      "After Swap : \n",
      " First Variabe : 987 \n",
      "  Second Variable : 43\n"
     ]
    }
   ],
   "source": [
    "#Answer 5 \n",
    "first_variable = int(input(\"First Variable =\"))\n",
    "second_variable = int(input(\"Second Variable =\"))\n",
    "print(\"First Variable Before swap  : {} \\n Second variable Before Swap  : {}\".format(first_variable,second_variable))\n",
    "first_variable , second_variable = second_variable , first_variable\n",
    "\n",
    "print(\"After Swap : \\n First Variabe : {} \\n  Second Variable : {}\".format(first_variable , second_variable))"
   ]
  },
  {
   "cell_type": "code",
   "execution_count": null,
   "metadata": {},
   "outputs": [],
   "source": []
  }
 ],
 "metadata": {
  "kernelspec": {
   "display_name": "Python 3 (ipykernel)",
   "language": "python",
   "name": "python3"
  },
  "language_info": {
   "codemirror_mode": {
    "name": "ipython",
    "version": 3
   },
   "file_extension": ".py",
   "mimetype": "text/x-python",
   "name": "python",
   "nbconvert_exporter": "python",
   "pygments_lexer": "ipython3",
   "version": "3.10.11"
  }
 },
 "nbformat": 4,
 "nbformat_minor": 4
}
