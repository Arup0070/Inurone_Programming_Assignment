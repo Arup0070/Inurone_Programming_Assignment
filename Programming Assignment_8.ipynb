{
 "cells": [
  {
   "cell_type": "markdown",
   "metadata": {
    "id": "mU2NKxIbFFE9"
   },
   "source": [
    "> Q. Write a Python Program to Add Two Matrices?"
   ]
  },
  {
   "cell_type": "code",
   "execution_count": 1,
   "metadata": {
    "colab": {
     "base_uri": "https://localhost:8080/"
    },
    "executionInfo": {
     "elapsed": 1729,
     "status": "ok",
     "timestamp": 1627458496332,
     "user": {
      "displayName": "Yuno Clover",
      "photoUrl": "",
      "userId": "14793961318254159012"
     },
     "user_tz": -330
    },
    "id": "_arVvEhWEFpA",
    "outputId": "f463b440-16a4-482d-e0e4-0a5cd5a2a9db"
   },
   "outputs": [
    {
     "name": "stdout",
     "output_type": "stream",
     "text": [
      "The Sum of two matrix \n",
      "\n",
      "[[ 3  6  6]\n",
      " [ 7  5 67]\n",
      " [85 35 47]]  and \n",
      "\n",
      "[[126  76  75]\n",
      " [ 56  85  13]\n",
      " [ 83  94  79]]  is \n",
      "\n",
      "[[129  82  81]\n",
      " [ 63  90  80]\n",
      " [168 129 126]] \n"
     ]
    }
   ],
   "source": [
    "import numpy as np\n",
    "\n",
    "mat1 = np.array([[3,6,6],\n",
    "        [7,5,67],\n",
    "        [85,35,47]])\n",
    "mat2 = np.array([[126,76,75],\n",
    "        [56,85,13],\n",
    "        [83,94,79]])\n",
    "\n",
    "Matsum = np.add(mat1,mat2)\n",
    "print(\"The Sum of two matrix \\n\\n{}  and \\n\\n{}  is \\n\\n{} \".format(mat1,mat2,Matsum))"
   ]
  },
  {
   "cell_type": "markdown",
   "metadata": {
    "id": "-_v4PKnwFbxD"
   },
   "source": [
    "> Q. Write a Python Program to Multiply Two Matrices?"
   ]
  },
  {
   "cell_type": "code",
   "execution_count": 2,
   "metadata": {
    "colab": {
     "base_uri": "https://localhost:8080/"
    },
    "executionInfo": {
     "elapsed": 423,
     "status": "ok",
     "timestamp": 1627458577824,
     "user": {
      "displayName": "Yuno Clover",
      "photoUrl": "",
      "userId": "14793961318254159012"
     },
     "user_tz": -330
    },
    "id": "mWYBVCwwFY9r",
    "outputId": "4db2231d-1109-4ae1-90be-ee46b4d3f404"
   },
   "outputs": [
    {
     "name": "stdout",
     "output_type": "stream",
     "text": [
      "The product of two matrix \n",
      "\n",
      "[[ 3  6  6]\n",
      " [ 7  5 67]\n",
      " [85 35 47]]  and \n",
      "\n",
      "[[126  76  75]\n",
      " [ 56  85  13]\n",
      " [ 83  94  79]]  is \n",
      "\n",
      "[[ 1212  1302   777]\n",
      " [ 6723  7255  5883]\n",
      " [16571 13853 10543]] \n"
     ]
    }
   ],
   "source": [
    "import numpy as np\n",
    "\n",
    "mat1 = np.array([[3,6,6],\n",
    "        [7,5,67],\n",
    "        [85,35,47]])\n",
    "mat2 = np.array([[126,76,75],\n",
    "        [56,85,13],\n",
    "        [83,94,79]])\n",
    "\n",
    "mulMat = np.dot(mat1,mat2)\n",
    "print(\"The product of two matrix \\n\\n{}  and \\n\\n{}  is \\n\\n{} \".format(mat1,mat2,mulMat))"
   ]
  },
  {
   "cell_type": "markdown",
   "metadata": {
    "id": "40VzMcD2F192"
   },
   "source": [
    "> Q. Write a Python Program to Transpose a Matrix?"
   ]
  },
  {
   "cell_type": "code",
   "execution_count": 4,
   "metadata": {
    "colab": {
     "base_uri": "https://localhost:8080/"
    },
    "executionInfo": {
     "elapsed": 13304,
     "status": "ok",
     "timestamp": 1627458904003,
     "user": {
      "displayName": "Yuno Clover",
      "photoUrl": "",
      "userId": "14793961318254159012"
     },
     "user_tz": -330
    },
    "id": "JlbAY5QeFyFH",
    "outputId": "a5464adb-c767-47cf-8141-042aa5009241"
   },
   "outputs": [
    {
     "name": "stdout",
     "output_type": "stream",
     "text": [
      "[12, 4, 3]\n",
      "[7, 5, 8]\n"
     ]
    }
   ],
   "source": [
    "X = [[12,7],\n",
    "    [4 ,5],\n",
    "    [3 ,8]]\n",
    "\n",
    "result = [[0,0,0],\n",
    "         [0,0,0]]\n",
    "\n",
    "for i in range(len(X)):\n",
    "   for j in range(len(X[0])):\n",
    "       result[j][i] = X[i][j]\n",
    "\n",
    "for r in result:\n",
    "   print(r) "
   ]
  },
  {
   "cell_type": "markdown",
   "metadata": {
    "id": "CVN3HpA2HLTt"
   },
   "source": [
    "> Q. Write a Python Program to Sort Words in Alphabetic Order?"
   ]
  },
  {
   "cell_type": "code",
   "execution_count": 7,
   "metadata": {
    "colab": {
     "base_uri": "https://localhost:8080/"
    },
    "executionInfo": {
     "elapsed": 14032,
     "status": "ok",
     "timestamp": 1627459133409,
     "user": {
      "displayName": "Yuno Clover",
      "photoUrl": "",
      "userId": "14793961318254159012"
     },
     "user_tz": -330
    },
    "id": "E8Km_TmtGT05",
    "outputId": "63151c99-e033-4c0b-df06-c91c3e2ebb2b"
   },
   "outputs": [
    {
     "name": "stdout",
     "output_type": "stream",
     "text": [
      "Enter string : i am arup\n",
      "am\n",
      "arup\n",
      "i\n"
     ]
    }
   ],
   "source": [
    "Arr = input(\"Enter string : \")\n",
    "\n",
    "words = Arr.split()\n",
    "words.sort()\n",
    "for word in words:\n",
    "    print(word)"
   ]
  },
  {
   "cell_type": "markdown",
   "metadata": {
    "id": "6V9rG7vcIDwt"
   },
   "source": [
    "> Q. Write a Python Program to Remove Punctuation From a String?"
   ]
  },
  {
   "cell_type": "code",
   "execution_count": 15,
   "metadata": {
    "colab": {
     "base_uri": "https://localhost:8080/"
    },
    "executionInfo": {
     "elapsed": 22740,
     "status": "ok",
     "timestamp": 1627459286866,
     "user": {
      "displayName": "Yuno Clover",
      "photoUrl": "",
      "userId": "14793961318254159012"
     },
     "user_tz": -330
    },
    "id": "snNKdCWDHZJZ",
    "outputId": "19f64d0c-b018-4937-8b11-54e8490f7404"
   },
   "outputs": [
    {
     "name": "stdout",
     "output_type": "stream",
     "text": [
      "string With Punctuation BUT it will not show \n"
     ]
    }
   ],
   "source": [
    "import re\n",
    "s = \"string. With. Punctuation&%#^&$ *%#B*&UT **i#%%t &&^%^&wi*&ll n)(ot sho*&w ?\"\n",
    "s = re.sub(r'[^\\w\\s]','',s)\n",
    "\n",
    "print(s)"
   ]
  },
  {
   "cell_type": "code",
   "execution_count": null,
   "metadata": {
    "id": "Y8gyNEE_IW67"
   },
   "outputs": [],
   "source": []
  }
 ],
 "metadata": {
  "colab": {
   "authorship_tag": "ABX9TyMxQ8KrcArQvf5t15GpGb0/",
   "collapsed_sections": [],
   "name": "Python Basic Prog 8.ipynb",
   "provenance": []
  },
  "kernelspec": {
   "display_name": "Python 3 (ipykernel)",
   "language": "python",
   "name": "python3"
  },
  "language_info": {
   "codemirror_mode": {
    "name": "ipython",
    "version": 3
   },
   "file_extension": ".py",
   "mimetype": "text/x-python",
   "name": "python",
   "nbconvert_exporter": "python",
   "pygments_lexer": "ipython3",
   "version": "3.10.11"
  }
 },
 "nbformat": 4,
 "nbformat_minor": 1
}
