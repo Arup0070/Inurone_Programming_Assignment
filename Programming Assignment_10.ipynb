{
 "cells": [
  {
   "cell_type": "markdown",
   "metadata": {
    "id": "Mvw91rTlWwNh"
   },
   "source": [
    "> Q. Write a Python program to find sum of elements in list?"
   ]
  },
  {
   "cell_type": "code",
   "execution_count": 9,
   "metadata": {
    "colab": {
     "base_uri": "https://localhost:8080/"
    },
    "executionInfo": {
     "elapsed": 195710,
     "status": "ok",
     "timestamp": 1627463380538,
     "user": {
      "displayName": "Yuno Clover",
      "photoUrl": "",
      "userId": "14793961318254159012"
     },
     "user_tz": -330
    },
    "id": "blteTtxgM1EI",
    "outputId": "45d5a601-ff96-4ef1-a566-89b153d187a7"
   },
   "outputs": [
    {
     "name": "stdout",
     "output_type": "stream",
     "text": [
      "Sum of elements in List [34, 5, 3, 46, 5, 34, 35, 36] is  198\n"
     ]
    }
   ],
   "source": [
    "\n",
    "lst = [34,5,3,46,5,34,35,36]\n",
    "print(f\"Sum of elements in List {lst} is \",sum(lst))"
   ]
  },
  {
   "cell_type": "markdown",
   "metadata": {
    "id": "MNXshQ7RYMhu"
   },
   "source": [
    "> Q. Write a Python program to Multiply all numbers in the list?"
   ]
  },
  {
   "cell_type": "code",
   "execution_count": 13,
   "metadata": {
    "colab": {
     "base_uri": "https://localhost:8080/"
    },
    "executionInfo": {
     "elapsed": 10393,
     "status": "ok",
     "timestamp": 1627463519698,
     "user": {
      "displayName": "Yuno Clover",
      "photoUrl": "",
      "userId": "14793961318254159012"
     },
     "user_tz": -330
    },
    "id": "T5jwlZE4XR3h",
    "outputId": "7d666c0a-d70a-4f4e-bfc9-002d30b6277f"
   },
   "outputs": [
    {
     "name": "stdout",
     "output_type": "stream",
     "text": [
      "Product of elements in List is : 67725\n"
     ]
    }
   ],
   "source": [
    "import math\n",
    "lst = [3,5,5,3,7,43]\n",
    "\n",
    "print(\"Product of elements in List is :\",math.prod(lst))"
   ]
  },
  {
   "cell_type": "markdown",
   "metadata": {
    "id": "Zm5V3tlaYsAb"
   },
   "source": [
    "> Q.  Write a Python program to find smallest number in a list?"
   ]
  },
  {
   "cell_type": "code",
   "execution_count": 14,
   "metadata": {
    "colab": {
     "base_uri": "https://localhost:8080/"
    },
    "executionInfo": {
     "elapsed": 14514,
     "status": "ok",
     "timestamp": 1627463577826,
     "user": {
      "displayName": "Yuno Clover",
      "photoUrl": "",
      "userId": "14793961318254159012"
     },
     "user_tz": -330
    },
    "id": "onMlp5ApYmI3",
    "outputId": "8608a403-624d-4eb7-8bbf-46bdd4085029"
   },
   "outputs": [
    {
     "name": "stdout",
     "output_type": "stream",
     "text": [
      "The Smallest no. in the list is : 5\n"
     ]
    }
   ],
   "source": [
    "\n",
    "lst = [5,7,87,45,43,76]\n",
    "\n",
    "print(\"The Smallest no. in the list is :\",min(lst))"
   ]
  },
  {
   "cell_type": "markdown",
   "metadata": {
    "id": "C_ECMJdpY6f0"
   },
   "source": [
    "> Q. Write a Python program to find largest number in a list?"
   ]
  },
  {
   "cell_type": "code",
   "execution_count": 15,
   "metadata": {
    "colab": {
     "base_uri": "https://localhost:8080/"
    },
    "executionInfo": {
     "elapsed": 10431,
     "status": "ok",
     "timestamp": 1627463622963,
     "user": {
      "displayName": "Yuno Clover",
      "photoUrl": "",
      "userId": "14793961318254159012"
     },
     "user_tz": -330
    },
    "id": "ySXmLHh-YzTZ",
    "outputId": "54e29b1c-7edd-49bb-bfdb-d71745806296"
   },
   "outputs": [
    {
     "name": "stdout",
     "output_type": "stream",
     "text": [
      "The largest no. in the list is : 87\n"
     ]
    }
   ],
   "source": [
    "\n",
    "lst = [5,7,87,45,43,76]\n",
    "\n",
    "print(\"The largest no. in the list is :\",max(lst))"
   ]
  },
  {
   "cell_type": "markdown",
   "metadata": {
    "id": "zZCZNL6ZZUoT"
   },
   "source": [
    "> Q.  Write a Python program to find second largest number in a list?"
   ]
  },
  {
   "cell_type": "code",
   "execution_count": 16,
   "metadata": {
    "colab": {
     "base_uri": "https://localhost:8080/"
    },
    "executionInfo": {
     "elapsed": 13443,
     "status": "ok",
     "timestamp": 1627463743432,
     "user": {
      "displayName": "Yuno Clover",
      "photoUrl": "",
      "userId": "14793961318254159012"
     },
     "user_tz": -330
    },
    "id": "Y44nGYTXY_V9",
    "outputId": "b0695f1b-4546-4931-ebb1-698e81d94f2c"
   },
   "outputs": [
    {
     "name": "stdout",
     "output_type": "stream",
     "text": [
      "The second largest number in the list is  76\n"
     ]
    }
   ],
   "source": [
    "\n",
    "lst = [5,7,87,45,43,76]\n",
    "lst.sort()\n",
    "print(\"The second largest number in the list is \",lst[-2])"
   ]
  },
  {
   "cell_type": "markdown",
   "metadata": {
    "id": "iIsolZKVZilI"
   },
   "source": [
    "Q. Write a Python program to find N largest elements from a list?"
   ]
  },
  {
   "cell_type": "code",
   "execution_count": 34,
   "metadata": {
    "colab": {
     "base_uri": "https://localhost:8080/"
    },
    "executionInfo": {
     "elapsed": 15319,
     "status": "ok",
     "timestamp": 1627463926638,
     "user": {
      "displayName": "Yuno Clover",
      "photoUrl": "",
      "userId": "14793961318254159012"
     },
     "user_tz": -330
    },
    "id": "zZ6ctk7CZcA4",
    "outputId": "3f474879-da52-4645-f67f-680623a20cba"
   },
   "outputs": [
    {
     "name": "stdout",
     "output_type": "stream",
     "text": [
      "Enter how many largest number you want from list : 3\n",
      "largest 3 elements from the list are :  [45, 76, 87]\n"
     ]
    }
   ],
   "source": [
    "\n",
    "lst = [5,7,87,45,43,76]\n",
    "i=sorted(lst)\n",
    "num=int(input(\"Enter how many largest number you want from list : \"))\n",
    "print(f\"largest {num} elements from the list are : \",i[-num:])"
   ]
  },
  {
   "cell_type": "markdown",
   "metadata": {
    "id": "ca-8uw3QaOiq"
   },
   "source": [
    "> Q. Write a Python program to print even numbers in a list?"
   ]
  },
  {
   "cell_type": "code",
   "execution_count": 35,
   "metadata": {
    "colab": {
     "base_uri": "https://localhost:8080/"
    },
    "executionInfo": {
     "elapsed": 10263,
     "status": "ok",
     "timestamp": 1627464445027,
     "user": {
      "displayName": "Yuno Clover",
      "photoUrl": "",
      "userId": "14793961318254159012"
     },
     "user_tz": -330
    },
    "id": "1s6bYIjVaISG",
    "outputId": "da5b8943-22d7-4d6c-9c63-675f1fa43f19"
   },
   "outputs": [
    {
     "name": "stdout",
     "output_type": "stream",
     "text": [
      "Enter  the len of the list :5\n",
      "54\n",
      "56\n",
      "58\n",
      "54\n",
      "67\n",
      "The List is : [54, 56, 58, 54, 67]\n",
      "The even numbers in list [54, 56, 58, 54]\n"
     ]
    }
   ],
   "source": [
    "lent =  int(input(\"Enter  the len of the list :\"))\n",
    "lst = []\n",
    "for i in  range(lent):\n",
    "  lst.append(int(input()))\n",
    "print(\"The List is :\" ,lst)\n",
    "even = [i for i in lst if i%2==0 ]\n",
    "print(\"The even numbers in list\" , even)"
   ]
  },
  {
   "cell_type": "markdown",
   "metadata": {
    "id": "Okrip0wCcNMS"
   },
   "source": [
    "> Q. Write a Python program to print odd numbers in a List?"
   ]
  },
  {
   "cell_type": "code",
   "execution_count": 16,
   "metadata": {
    "colab": {
     "base_uri": "https://localhost:8080/"
    },
    "executionInfo": {
     "elapsed": 8918,
     "status": "ok",
     "timestamp": 1627464524393,
     "user": {
      "displayName": "Yuno Clover",
      "photoUrl": "",
      "userId": "14793961318254159012"
     },
     "user_tz": -330
    },
    "id": "lrqkA9LUbKti",
    "outputId": "98a5d7b4-fbb8-459d-9c29-6c134a9e37f1"
   },
   "outputs": [
    {
     "name": "stdout",
     "output_type": "stream",
     "text": [
      "Enter  the len of the list :5\n",
      "11\n",
      "22\n",
      "33\n",
      "44\n",
      "55\n",
      "The List is : [11, 22, 33, 44, 55]\n",
      "The even numbers in list [11, 33, 55]\n"
     ]
    }
   ],
   "source": [
    "lent =  int(input(\"Enter  the len of the list :\"))\n",
    "lst = []\n",
    "for i in  range(lent):\n",
    "  lst.append(int(input()))\n",
    "print(\"The List is :\" ,lst)\n",
    "odd = [i for i in lst if i%2 != 0 ]\n",
    "print(\"The even numbers in list\" , odd)"
   ]
  },
  {
   "cell_type": "markdown",
   "metadata": {
    "id": "mXbgkC-mchWl"
   },
   "source": [
    "> Q. Write a Python program to Remove empty List from List?"
   ]
  },
  {
   "cell_type": "code",
   "execution_count": 37,
   "metadata": {
    "colab": {
     "base_uri": "https://localhost:8080/"
    },
    "executionInfo": {
     "elapsed": 607,
     "status": "ok",
     "timestamp": 1627464642451,
     "user": {
      "displayName": "Yuno Clover",
      "photoUrl": "",
      "userId": "14793961318254159012"
     },
     "user_tz": -330
    },
    "id": "ICFuf87QcT5E",
    "outputId": "05e851f3-e3ba-478f-ed07-ca05c14def82"
   },
   "outputs": [
    {
     "name": "stdout",
     "output_type": "stream",
     "text": [
      "The List : [55, [], 14, 76, [], 87, 86, [], 98]\n",
      "The list after removing empty lists : [55, 14, 76, 87, 86, 98]\n"
     ]
    }
   ],
   "source": [
    "lst = [55,[],14,76,[],87,86,[],98]\n",
    "print(\"The List :\",lst)\n",
    "new_list = [item for item in lst if item != []]\n",
    "print(\"The list after removing empty lists :\" , new_list)"
   ]
  },
  {
   "cell_type": "markdown",
   "metadata": {
    "id": "jQT6b5JidAd7"
   },
   "source": [
    "> Q. Write a Python program to Cloning or Copying a list?"
   ]
  },
  {
   "cell_type": "code",
   "execution_count": 38,
   "metadata": {
    "colab": {
     "base_uri": "https://localhost:8080/"
    },
    "executionInfo": {
     "elapsed": 9368,
     "status": "ok",
     "timestamp": 1627464864252,
     "user": {
      "displayName": "Yuno Clover",
      "photoUrl": "",
      "userId": "14793961318254159012"
     },
     "user_tz": -330
    },
    "id": "M6RacS-ac6lg",
    "outputId": "c4d34cef-ef54-4a70-8d9e-8334ac2f755b"
   },
   "outputs": [
    {
     "name": "stdout",
     "output_type": "stream",
     "text": [
      "Enter the lenth of your list : 5\n",
      "65\n",
      "64\n",
      "98\n",
      "64\n",
      "45\n",
      "The List is  [65, 64, 98, 64, 45]\n",
      "Cloning By list copying lst  [65, 64, 98, 64, 45]\n"
     ]
    }
   ],
   "source": [
    "n = int(input(\"Enter the lenth of your list : \"))\n",
    "lst = []\n",
    "\n",
    "for i in range(n):\n",
    "    lst.append(int(input()))\n",
    "print(\"The List is \",lst)\n",
    "\n",
    "lst_copy = lst.copy()\n",
    "print(\"Cloning By list copying lst \",lst_copy)"
   ]
  },
  {
   "cell_type": "markdown",
   "metadata": {
    "id": "FYbvHG_id-eM"
   },
   "source": [
    "> Q. Write a Python program to Count occurrences of an element in a list?"
   ]
  },
  {
   "cell_type": "code",
   "execution_count": 39,
   "metadata": {
    "colab": {
     "base_uri": "https://localhost:8080/"
    },
    "executionInfo": {
     "elapsed": 12956,
     "status": "ok",
     "timestamp": 1627465013116,
     "user": {
      "displayName": "Yuno Clover",
      "photoUrl": "",
      "userId": "14793961318254159012"
     },
     "user_tz": -330
    },
    "id": "fBT8gOQhdWEG",
    "outputId": "7fa27e3c-ccf0-4e8a-f7d9-ccbc9b6c68bf"
   },
   "outputs": [
    {
     "name": "stdout",
     "output_type": "stream",
     "text": [
      "Enter the lenth of your list : 5\n",
      "54\n",
      "76\n",
      "87\n",
      "76\n",
      "76\n",
      "The List is  [54, 76, 87, 76, 76]\n",
      "Enter the element to find its occurance : 76\n",
      "76 has occured 3 times in the list \n"
     ]
    }
   ],
   "source": [
    "lent = int(input(\"Enter the lenth of your list : \"))\n",
    "lst = []\n",
    "for i in range(lent):\n",
    "    lst.append(int(input()))\n",
    "print(\"The List is \",lst)\n",
    "ele= int(input(\"Enter the element to find its occurance : \"))\n",
    "print(ele,\"has occured {} times in the list \".format(lst.count(ele)))"
   ]
  },
  {
   "cell_type": "code",
   "execution_count": null,
   "metadata": {
    "id": "XcnCa-2IePEn"
   },
   "outputs": [],
   "source": []
  }
 ],
 "metadata": {
  "colab": {
   "authorship_tag": "ABX9TyMxHI4i1WG0bAdNSs41SgB7",
   "collapsed_sections": [],
   "name": "Python Basic Prog 10.ipynb",
   "provenance": []
  },
  "kernelspec": {
   "display_name": "Python 3 (ipykernel)",
   "language": "python",
   "name": "python3"
  },
  "language_info": {
   "codemirror_mode": {
    "name": "ipython",
    "version": 3
   },
   "file_extension": ".py",
   "mimetype": "text/x-python",
   "name": "python",
   "nbconvert_exporter": "python",
   "pygments_lexer": "ipython3",
   "version": "3.10.11"
  }
 },
 "nbformat": 4,
 "nbformat_minor": 1
}
